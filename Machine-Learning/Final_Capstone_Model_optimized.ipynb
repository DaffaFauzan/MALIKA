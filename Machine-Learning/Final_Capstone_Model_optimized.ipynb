{
  "nbformat": 4,
  "nbformat_minor": 0,
  "metadata": {
    "colab": {
      "name": "coba3 Very Final Capstone Model ",
      "provenance": [],
      "collapsed_sections": []
    },
    "kernelspec": {
      "name": "python3",
      "display_name": "Python 3"
    },
    "language_info": {
      "name": "python"
    }
  },
  "cells": [
    {
      "cell_type": "code",
      "metadata": {
        "id": "jvkflOEblFnp"
      },
      "source": [
        "#Download dataset from Kaggle\n",
        "! KAGGLE_CONFIG_DIR=/content/ kaggle datasets download daffafauzanazhari/bruised-facememar"
      ],
      "execution_count": null,
      "outputs": []
    },
    {
      "cell_type": "code",
      "metadata": {
        "id": "gG3pvp-dPUow"
      },
      "source": [
        "! chmod 600 kaggle.json"
      ],
      "execution_count": null,
      "outputs": []
    },
    {
      "cell_type": "markdown",
      "metadata": {
        "id": "dGTaziGixQ4e"
      },
      "source": [
        "# New Section"
      ]
    },
    {
      "cell_type": "code",
      "metadata": {
        "id": "yCrjSl7klJmY"
      },
      "source": [
        "#import library\n",
        "\n",
        "import os\n",
        "import zipfile\n",
        "import random\n",
        "import tensorflow as tf\n",
        "import csv\n",
        "import numpy as np\n",
        "import shutil\n",
        "from tensorflow.keras.optimizers import RMSprop\n",
        "from tensorflow.keras.preprocessing.image import ImageDataGenerator\n",
        "from shutil import copyfile\n",
        "from os import getcwd\n"
      ],
      "execution_count": null,
      "outputs": []
    },
    {
      "cell_type": "code",
      "metadata": {
        "id": "yfj6fLoOqSfa"
      },
      "source": [
        "!ls"
      ],
      "execution_count": null,
      "outputs": []
    },
    {
      "cell_type": "code",
      "metadata": {
        "id": "PvGhfk4Aqbxb"
      },
      "source": [
        "#Dataset being extract and placed in directory\n",
        "path_violence_and_nonviolence = f\"{getcwd()}/bruised-facememar.zip\"\n",
        "#shutil.rmtree('/tmp')\n",
        "\n",
        "local_zip = path_violence_and_nonviolence\n",
        "zip_ref = zipfile.ZipFile(local_zip, \"r\")\n",
        "zip_ref.extractall('/tmp')\n",
        "zip_ref.close()\n"
      ],
      "execution_count": null,
      "outputs": []
    },
    {
      "cell_type": "code",
      "metadata": {
        "id": "0Cvl_Z6yssKu"
      },
      "source": [
        "!ls"
      ],
      "execution_count": null,
      "outputs": []
    },
    {
      "cell_type": "code",
      "metadata": {
        "id": "U-0G2P07r_dc"
      },
      "source": [
        "# Dataset amount\n",
        "print(len(os.listdir(\"/tmp/dataset/dataset/memar\")))\n",
        "print(len(os.listdir(\"/tmp/dataset/dataset/non-memar\")))"
      ],
      "execution_count": null,
      "outputs": []
    },
    {
      "cell_type": "code",
      "metadata": {
        "id": "B8FUqIBntREy"
      },
      "source": [
        "try:\n",
        "  os.mkdir(\"/tmp/violence-v-nonviolence/\")\n",
        "  os.mkdir(\"/tmp/violence-v-nonviolence/training/\")\n",
        "  os.mkdir(\"/tmp/violence-v-nonviolence/testing/\")\n",
        "  os.mkdir(\"/tmp/violence-v-nonviolence/training/violence/\")\n",
        "  os.mkdir(\"/tmp/violence-v-nonviolence/training/nonviolence/\")\n",
        "  os.mkdir(\"/tmp/violence-v-nonviolence/testing/violence/\")\n",
        "  os.mkdir(\"/tmp/violence-v-nonviolence/testing/nonviolence/\")\n",
        "except OSError:\n",
        "  pass"
      ],
      "execution_count": null,
      "outputs": []
    },
    {
      "cell_type": "code",
      "metadata": {
        "id": "YwaXk50X1n4u"
      },
      "source": [
        "!ls"
      ],
      "execution_count": null,
      "outputs": []
    },
    {
      "cell_type": "code",
      "metadata": {
        "id": "I94KqDGpvLG0"
      },
      "source": [
        "def split_data(SOURCE, TRAINING, TESTING, SPLIT_SIZE):\n",
        "    source_list = random.sample(os.listdir(SOURCE), len(os.listdir(SOURCE)))\n",
        "\n",
        "    for file_number in range(len(source_list)):\n",
        "          file_source = os.path.join(SOURCE, source_list[file_number-1])\n",
        "          file_training = os.path.join(TRAINING, source_list[file_number-1])\n",
        "          file_validation = os.path.join(TESTING, source_list[file_number-1])\n",
        "\n",
        "          size = os.path.getsize(file_source)\n",
        "\n",
        "          if (file_number)<(len(source_list)*SPLIT_SIZE):\n",
        "              if size > 0:\n",
        "                  copyfile(file_source, file_training)\n",
        "          elif size > 0:\n",
        "              copyfile(file_source, file_validation)\n",
        "\n",
        "\n",
        "\n",
        "VIOLENCE_SOURCE_DIR = \"/tmp/dataset/dataset/memar/\"\n",
        "TRAINING_VIOLENCE_DIR = \"/tmp/violence-v-nonviolence/training/violence/\"\n",
        "TESTING_VIOLENCE_DIR = \"/tmp/violence-v-nonviolence/testing/violence/\"\n",
        "NONVIOLENCE_SOURCE_DIR = \"/tmp/dataset/dataset/non-memar/\"\n",
        "TRAINING_NONVIOLENCE_DIR = \"/tmp/violence-v-nonviolence/training/nonviolence/\"\n",
        "TESTING_NONVIOLENCE_DIR = \"/tmp/violence-v-nonviolence/testing/nonviolence/\"\n",
        "\n",
        "split_size = .7\n",
        "split_data(VIOLENCE_SOURCE_DIR, TRAINING_VIOLENCE_DIR, TESTING_VIOLENCE_DIR, split_size)\n",
        "split_data(NONVIOLENCE_SOURCE_DIR, TRAINING_NONVIOLENCE_DIR, TESTING_NONVIOLENCE_DIR, split_size)"
      ],
      "execution_count": null,
      "outputs": []
    },
    {
      "cell_type": "code",
      "metadata": {
        "id": "Nwzn_sJ8zhPm"
      },
      "source": [
        "print(len(os.listdir(\"/tmp/violence-v-nonviolence/training/violence/\")))\n",
        "print(len(os.listdir(\"/tmp/violence-v-nonviolence/training/nonviolence/\")))\n",
        "print(len(os.listdir(\"/tmp/violence-v-nonviolence/testing/violence/\")))\n",
        "print(len(os.listdir(\"/tmp/violence-v-nonviolence/testing/nonviolence/\")))"
      ],
      "execution_count": null,
      "outputs": []
    },
    {
      "cell_type": "code",
      "metadata": {
        "id": "w1_13hph3Bm9"
      },
      "source": [
        "model = tf.keras.models.Sequential([\n",
        "    tf.keras.layers.Conv2D(16, (3,3), activation=\"relu\", input_shape=(150,150,3)),\n",
        "    tf.keras.layers.MaxPooling2D(2,2),\n",
        "\n",
        "    tf.keras.layers.Conv2D(32, (3,3), activation=\"relu\"),\n",
        "    tf.keras.layers.MaxPooling2D(2,2),\n",
        "\n",
        "    tf.keras.layers.Conv2D(64, (3,3), activation=\"relu\"),\n",
        "    tf.keras.layers.MaxPooling2D(2,2),\n",
        "\n",
        "    tf.keras.layers.Flatten(),\n",
        "\n",
        "    tf.keras.layers.Dense(512, activation=\"relu\"),\n",
        "\n",
        "    tf.keras.layers.Dense(1, activation=\"sigmoid\"),\n",
        "])\n",
        "\n",
        "model.compile(optimizer=RMSprop(learning_rate=0.001), \n",
        "              loss='binary_crossentropy', \n",
        "              metrics=['acc'])"
      ],
      "execution_count": null,
      "outputs": []
    },
    {
      "cell_type": "code",
      "metadata": {
        "id": "aszVorza4HLZ"
      },
      "source": [
        "TRAINING_DIR =\"/tmp/violence-v-nonviolence/training/\"\n",
        "train_datagen = ImageDataGenerator(\n",
        "    rescale = 1.0/255,\n",
        "    rotation_range =40,\n",
        "    width_shift_range =0.2,\n",
        "    height_shift_range = 0.2,\n",
        "    shear_range =0.2,\n",
        "    zoom_range =0.2,\n",
        "    horizontal_flip =True,\n",
        "    fill_mode = \"nearest\")\n",
        "\n",
        "train_generator = train_datagen.flow_from_directory(TRAINING_DIR, batch_size=10, class_mode=\"binary\", target_size=(150,150))\n",
        "\n",
        "VALIDATION_DIR =\"/tmp/violence-v-nonviolence/testing/\"\n",
        "validation_datagen = ImageDataGenerator(rescale=1.0/255.)\n",
        "\n",
        "validation_generator = validation_datagen.flow_from_directory(VALIDATION_DIR, batch_size=10, class_mode=\"binary\", target_size=(150,150))"
      ],
      "execution_count": null,
      "outputs": []
    },
    {
      "cell_type": "code",
      "metadata": {
        "id": "0UHF1bItIISY"
      },
      "source": [
        "history = model.fit_generator(train_generator,\n",
        "                              epochs=5,\n",
        "                              verbose=1,\n",
        "                              validation_data=validation_generator)"
      ],
      "execution_count": null,
      "outputs": []
    },
    {
      "cell_type": "markdown",
      "metadata": {
        "id": "t8K950QP46dK"
      },
      "source": [
        "# Saving Keras Model .h5"
      ]
    },
    {
      "cell_type": "code",
      "metadata": {
        "id": "IqWXdKU1in63"
      },
      "source": [
        "KERAS_MODEL_NAME = \"tf_model_bruisedface-memar.h5\""
      ],
      "execution_count": null,
      "outputs": []
    },
    {
      "cell_type": "code",
      "metadata": {
        "id": "KoR9ULORin2V"
      },
      "source": [
        "model.save(KERAS_MODEL_NAME)"
      ],
      "execution_count": null,
      "outputs": []
    },
    {
      "cell_type": "code",
      "metadata": {
        "id": "OlKforSwinjr"
      },
      "source": [
        "convert_bytes(get_file_size(KERAS_MODEL_NAME), \"MB\")"
      ],
      "execution_count": null,
      "outputs": []
    },
    {
      "cell_type": "code",
      "metadata": {
        "id": "TcsIXbg4IX6_"
      },
      "source": [
        "# PLOT LOSS AND ACCURACY\n",
        "%matplotlib inline\n",
        "\n",
        "import matplotlib.image  as mpimg\n",
        "import matplotlib.pyplot as plt\n",
        "\n",
        "#-----------------------------------------------------------\n",
        "# Retrieve a list of list results on training and test data\n",
        "# sets for each training epoch\n",
        "#-----------------------------------------------------------\n",
        "acc=history.history['acc']\n",
        "val_acc=history.history['val_acc']\n",
        "loss=history.history['loss']\n",
        "val_loss=history.history['val_loss']\n",
        "\n",
        "epochs=range(len(acc)) # Get number of epochs\n",
        "\n",
        "#------------------------------------------------\n",
        "# Plot training and validation accuracy per epoch\n",
        "#------------------------------------------------\n",
        "plt.plot(epochs, acc, 'r', \"Training Accuracy\")\n",
        "plt.plot(epochs, val_acc, 'b', \"Validation Accuracy\")\n",
        "plt.title('Training and validation accuracy')\n",
        "plt.figure()\n",
        "\n",
        "#------------------------------------------------\n",
        "# Plot training and validation loss per epoch\n",
        "#------------------------------------------------\n",
        "plt.plot(epochs, loss, 'r', \"Training Loss\")\n",
        "plt.plot(epochs, val_loss, 'b', \"Validation Loss\")\n",
        "\n",
        "\n",
        "plt.title('Training and validation loss')\n",
        "\n",
        "# Desired output. Charts with training and validation metrics. No crash :)"
      ],
      "execution_count": null,
      "outputs": []
    },
    {
      "cell_type": "code",
      "metadata": {
        "id": "SxDm5CGrPdaB"
      },
      "source": [
        "import numpy as np\n",
        "\n",
        "from google.colab import files\n",
        "from keras.preprocessing import image\n",
        "\n",
        "uploaded=files.upload()\n",
        "\n",
        "for fn in uploaded.keys():\n",
        " \n",
        "  # predicting images\n",
        "  path='/content/' + fn\n",
        "  img=image.load_img(path, target_size=(150, 150))\n",
        "  \n",
        "  x=image.img_to_array(img)\n",
        "  x=np.expand_dims(x, axis=0)\n",
        "  images = np.vstack([x])\n",
        "  \n",
        "  classes = model.predict(images, batch_size=10)\n",
        "  \n",
        "  print(classes[0])\n",
        "  \n",
        "  if classes[0]>0:\n",
        "    print(fn + \" is a violence\")\n",
        "    \n",
        "  else:\n",
        "    print(fn + \" is a non violence\")\n",
        " "
      ],
      "execution_count": null,
      "outputs": []
    },
    {
      "cell_type": "markdown",
      "metadata": {
        "id": "UCQKYJpfpXMK"
      },
      "source": [
        "# TF Lite Model (optimization)\n"
      ]
    },
    {
      "cell_type": "code",
      "metadata": {
        "id": "sTkpDvTfVc7Z"
      },
      "source": [
        "TF_LITE_MODEL_FILE_NAME = \"tf_lite_model_bruisedface-memar_optimized.tflite\""
      ],
      "execution_count": null,
      "outputs": []
    },
    {
      "cell_type": "code",
      "metadata": {
        "id": "QvMlkYJ0Vm6v"
      },
      "source": [
        "tf_lite_converter = tf.lite.TFLiteConverter.from_keras_model(model)\n",
        "tf_lite_converter.optimizations = [tf.lite.Optimize.OPTIMIZE_FOR_SIZE]\n",
        "# tf_lite_converter.optimizations = [tf.lite.Optimize.DEFAULT]\n",
        "# tf_lite_converter.target_spec.supported_types = [tf.float16]\n",
        "tflite_model = tf_lite_converter.convert()"
      ],
      "execution_count": null,
      "outputs": []
    },
    {
      "cell_type": "code",
      "metadata": {
        "id": "Cmf5P3h7Vm6v"
      },
      "source": [
        "tflite_model_name = TF_LITE_MODEL_FILE_NAME\n",
        "open(tflite_model_name, \"wb\").write(tflite_model)"
      ],
      "execution_count": null,
      "outputs": []
    },
    {
      "cell_type": "markdown",
      "metadata": {
        "id": "XT0gWI389lR6"
      },
      "source": [
        "# Convert Model Size"
      ]
    },
    {
      "cell_type": "code",
      "metadata": {
        "id": "kpN2DZVQaaF1"
      },
      "source": [
        "def get_file_size(file_path):\n",
        "    size = os.path.getsize(file_path)\n",
        "    return size"
      ],
      "execution_count": null,
      "outputs": []
    },
    {
      "cell_type": "code",
      "metadata": {
        "id": "_9Y2nomhaT5i"
      },
      "source": [
        "def convert_bytes(size, unit=None):\n",
        "    if unit == \"KB\":\n",
        "        return print('File size: ' + str(round(size / 1024, 3)) + ' Kilobytes')\n",
        "    elif unit == \"MB\":\n",
        "        return print('File size: ' + str(round(size / (1024 * 1024), 3)) + ' Megabytes')\n",
        "    else:\n",
        "        return print('File size: ' + str(size) + ' bytes')"
      ],
      "execution_count": null,
      "outputs": []
    },
    {
      "cell_type": "code",
      "metadata": {
        "id": "J8OeYfu3Vm6w"
      },
      "source": [
        "convert_bytes(get_file_size(TF_LITE_MODEL_FILE_NAME), \"KB\")"
      ],
      "execution_count": null,
      "outputs": []
    },
    {
      "cell_type": "markdown",
      "metadata": {
        "id": "j439LHrOpvNO"
      },
      "source": [
        "# Check Input Tensor Shape"
      ]
    },
    {
      "cell_type": "code",
      "metadata": {
        "id": "DVDUT7DIpzMc"
      },
      "source": [
        "interpreter = tf.lite.Interpreter(model_path = TF_LITE_MODEL_FILE_NAME)\n",
        "input_details = interpreter.get_input_details()\n",
        "output_details = interpreter.get_output_details()\n",
        "print(\"Input Shape:\", input_details[0]['shape'])\n",
        "print(\"Input Type:\", input_details[0]['dtype'])\n",
        "print(\"Output Shape:\", output_details[0]['shape'])\n",
        "print(\"Output Type:\", output_details[0]['dtype'])"
      ],
      "execution_count": null,
      "outputs": []
    },
    {
      "cell_type": "markdown",
      "metadata": {
        "id": "QJTGnVl0p6R-"
      },
      "source": [
        "# Resize Tensor Shape (error)"
      ]
    },
    {
      "cell_type": "code",
      "metadata": {
        "id": "krvJzw9Mp-R9"
      },
      "source": [
        "interpreter.resize_tensor_input(input_details[0]['index'], (60, 150, 150, 3))\n",
        "interpreter.resize_tensor_input(output_details[0]['index'], (60, 1))\n",
        "interpreter.allocate_tensors()\n",
        "input_details = interpreter.get_input_details()\n",
        "output_details = interpreter.get_output_details()\n",
        "print(\"Input Shape:\", input_details[0]['shape'])\n",
        "print(\"Input Type:\", input_details[0]['dtype'])\n",
        "print(\"Output Shape:\", output_details[0]['shape'])\n",
        "print(\"Output Type:\", output_details[0]['dtype'])"
      ],
      "execution_count": null,
      "outputs": []
    },
    {
      "cell_type": "code",
      "metadata": {
        "id": "0zOe2VpkqCGs"
      },
      "source": [
        "validation_generator.dtype"
      ],
      "execution_count": null,
      "outputs": []
    },
    {
      "cell_type": "code",
      "metadata": {
        "id": "13Qy7R8FqB-n"
      },
      "source": [
        "test_imgs_numpy = np.array(validation_generator, dtype=np.float32)"
      ],
      "execution_count": null,
      "outputs": []
    },
    {
      "cell_type": "code",
      "metadata": {
        "id": "PH7mjfFOqBrP"
      },
      "source": [
        "interpreter.set_tensor(input_details[0]['index'], test_imgs_numpy)\n",
        "interpreter.invoke()\n",
        "tflite_model_predictions = interpreter.get_tensor(output_details[0]['index'])\n",
        "print(\"Prediction results shape:\", tflite_model_predictions.shape)\n",
        "prediction_classes = np.argmax(tflite_model_predictions, axis=1)"
      ],
      "execution_count": null,
      "outputs": []
    },
    {
      "cell_type": "code",
      "metadata": {
        "id": "qvqNX2NEqHjV"
      },
      "source": [
        "acc = accuracy_score(prediction_classes, test_labels)"
      ],
      "execution_count": null,
      "outputs": []
    },
    {
      "cell_type": "code",
      "metadata": {
        "id": "ovwHgfh5qJYx"
      },
      "source": [
        "print('Test accuracy TFLITE model :', acc)"
      ],
      "execution_count": null,
      "outputs": []
    }
  ]
}